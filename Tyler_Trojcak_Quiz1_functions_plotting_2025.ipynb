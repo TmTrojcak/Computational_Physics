{
  "nbformat": 4,
  "nbformat_minor": 0,
  "metadata": {
    "colab": {
      "provenance": [],
      "include_colab_link": true
    },
    "kernelspec": {
      "name": "python3",
      "display_name": "Python 3"
    },
    "language_info": {
      "name": "python"
    }
  },
  "cells": [
    {
      "cell_type": "markdown",
      "metadata": {
        "id": "view-in-github",
        "colab_type": "text"
      },
      "source": [
        "<a href=\"https://colab.research.google.com/github/TmTrojcak/Computational_Physics/blob/main/Tyler_Trojcak_Quiz1_functions_plotting_2025.ipynb\" target=\"_parent\"><img src=\"https://colab.research.google.com/assets/colab-badge.svg\" alt=\"Open In Colab\"/></a>"
      ]
    },
    {
      "cell_type": "markdown",
      "source": [
        "# Quiz 1\n",
        "*written by Rose Finn*\n",
        "\n",
        "\n",
        "# Directions\n",
        "\n",
        "* Please complete the Questions below - You can not use any resources except your brain!\n",
        "* Make sure to add comment strings for the function you write.\n",
        "* Be sure to comment your code so I can understand what you are thinking and give partial credit if needed.\n",
        "* Use descriptive variable names.\n",
        "\n",
        "# Submitting Your Notebook\n",
        "\n",
        "* Be sure to click the Submit button."
      ],
      "metadata": {
        "id": "ldNxhHsnAnhC"
      }
    },
    {
      "cell_type": "markdown",
      "source": [
        "## Part 1\n",
        "\n",
        "(5 points)\n",
        "\n",
        "Please write a function, `myfunc`, to describe the following equation:\n",
        "\n",
        "\n",
        "$$ y = -0.5x^4+ 5x^3 - 10x^2 + 5 $$\n",
        "\n",
        "The function should take in x-values as an input and return the corresponding y-values.\n",
        "\n"
      ],
      "metadata": {
        "id": "Di-gcxpRAwQK"
      }
    },
    {
      "cell_type": "code",
      "execution_count": null,
      "metadata": {
        "id": "7cxg8I0QAeZ5"
      },
      "outputs": [],
      "source": [
        "# import numpy and pyplot here\n",
        "import numpy as np\n",
        "import matplotlib.pyplot as plt"
      ]
    },
    {
      "cell_type": "code",
      "source": [
        "# write your function here\n",
        "def myfunc(x):\n",
        "  y = -0.5*x**4 + 5*x**3 - 10*x**2 + 5\n",
        "  return y\n"
      ],
      "metadata": {
        "id": "Q9t7G1oaA0dg"
      },
      "execution_count": null,
      "outputs": []
    },
    {
      "cell_type": "markdown",
      "source": [
        "## Part 2\n",
        "\n",
        "(3 points)\n",
        "\n",
        "Test your function with the following values:\n",
        "* myfunc(0)\n",
        "* myfunc(1)\n",
        "* myfunc(-1)\n",
        "\n",
        "Display these values nicely formatted using f-strings."
      ],
      "metadata": {
        "id": "iX03KZoPBBka"
      }
    },
    {
      "cell_type": "code",
      "source": [
        "# your code to display output using formatted print statements\n",
        "print(f\"myfunc(0) = {myfunc(0)}\")\n",
        "print(f\"myfunc(1) = {myfunc(1)}\")\n",
        "print(f\"myfunc(-1) = {myfunc(-1)}\")"
      ],
      "metadata": {
        "id": "5N-rOF5jBIMh",
        "colab": {
          "base_uri": "https://localhost:8080/"
        },
        "outputId": "414cbdd1-eb80-430a-82e1-3111dde67b2d"
      },
      "execution_count": null,
      "outputs": [
        {
          "output_type": "stream",
          "name": "stdout",
          "text": [
            "myfunc(0) = 5.0\n",
            "myfunc(1) = -0.5\n",
            "myfunc(-1) = -10.5\n"
          ]
        }
      ]
    },
    {
      "cell_type": "markdown",
      "source": [
        "## Part 3\n",
        "\n",
        "(6 points)\n",
        "\n",
        "Please use the function from `Part 1` to make a plot.\n",
        "* Make an x array that ranges $-2\\leq x \\leq 8$ with 100 elements\n",
        "* create a y array using your function\n",
        "* make sure to label your axis\n",
        "* draw a horizontal line at $y=0$ using `plt.axhline(y=0,ls='--',c='k')`"
      ],
      "metadata": {
        "id": "wxBfCT4mBLGz"
      }
    },
    {
      "cell_type": "code",
      "source": [
        "# Defining arrays\n",
        "x = np.linspace(-2,8,100)\n",
        "y = myfunc(x)\n",
        "\n",
        "# Plot function & horizontal zero line\n",
        "plt.plot(x, y, color= 'b')\n",
        "plt.axhline(y=0, ls='--', c='k')\n",
        "\n",
        "# Labeling\n",
        "plt.xlabel('x Values')\n",
        "plt.ylabel('y Values')\n",
        "\n",
        "plt.title('Plot of x & y')"
      ],
      "metadata": {
        "id": "QK4f4cUWBO0W",
        "colab": {
          "base_uri": "https://localhost:8080/",
          "height": 489
        },
        "outputId": "7ca649a3-142d-4084-e06b-4b0f8ca72f9b"
      },
      "execution_count": null,
      "outputs": [
        {
          "output_type": "execute_result",
          "data": {
            "text/plain": [
              "Text(0.5, 1.0, 'Plot of x & y')"
            ]
          },
          "metadata": {},
          "execution_count": 29
        },
        {
          "output_type": "display_data",
          "data": {
            "text/plain": [
              "<Figure size 640x480 with 1 Axes>"
            ],
            "image/png": "[encoded data removed]"
          },
          "metadata": {}
        }
      ]
    },
    {
      "cell_type": "markdown",
      "source": [
        "## Bonus\n",
        "\n",
        "(1 point possible)\n",
        "\n",
        "How many roots does this equation have?  How do you know?\n",
        "\n",
        "Answer Here"
      ],
      "metadata": {
        "id": "T8uxygWBBtRa"
      }
    },
    {
      "cell_type": "code",
      "source": [],
      "metadata": {
        "id": "SUk9GpDtNAI1"
      },
      "execution_count": null,
      "outputs": []
    }
  ]
}