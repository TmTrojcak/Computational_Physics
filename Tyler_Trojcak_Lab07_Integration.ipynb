{
  "nbformat": 4,
  "nbformat_minor": 0,
  "metadata": {
    "colab": {
      "provenance": [],
      "include_colab_link": true
    },
    "kernelspec": {
      "name": "python3",
      "display_name": "Python 3"
    },
    "language_info": {
      "name": "python"
    }
  },
  "cells": [
    {
      "cell_type": "markdown",
      "metadata": {
        "id": "view-in-github",
        "colab_type": "text"
      },
      "source": [
        "<a href=\"https://colab.research.google.com/github/TmTrojcak/Computational_Physics/blob/main/Tyler_Trojcak_Lab07_Integration.ipynb\" target=\"_parent\"><img src=\"https://colab.research.google.com/assets/colab-badge.svg\" alt=\"Open In Colab\"/></a>"
      ]
    },
    {
      "cell_type": "markdown",
      "source": [
        "# Lab 07: Numerical Integration\n",
        "\n",
        "* There are many techniques for implementing numerical integration.  In this lab, you will write code to implement the trapezoid method of integration.\n",
        "\n",
        "* You will use this function to calculate the integral in several different physical situations.\n",
        "\n",
        "* You will compare your function with python's built-it numerical integrators."
      ],
      "metadata": {
        "id": "xse95zEAUgb9"
      }
    },
    {
      "cell_type": "code",
      "execution_count": 89,
      "metadata": {
        "id": "to9v7ECGPTHI"
      },
      "outputs": [],
      "source": [
        "# import your modules here\n",
        "import numpy as np\n",
        "import matplotlib.pyplot as plt"
      ]
    },
    {
      "cell_type": "markdown",
      "source": [
        "# Part 1: Write a Function to Implement the Trapezoid Integration Method\n",
        "\n",
        "(5 points)\n",
        "\n",
        "Write a function called **trap** that does the following.\n",
        "\n",
        "Input:\n",
        "* array of y values\n",
        "* array of x values, spanning from from xmin to xmax\n",
        "\n",
        "\n",
        "Function should integrate using the trapezoid method.\n",
        "\n",
        "Return:\n",
        "* the integral of $f(x)$ between xmin and xmax"
      ],
      "metadata": {
        "id": "aiIJCQWpPW5i"
      }
    },
    {
      "cell_type": "code",
      "source": [
        "# write your function here\n",
        "def trap(y, x):\n",
        "  areatotal = 0\n",
        "  for i in range(1, len(x)):\n",
        "    area = 0.5 * ((y[i] + y[i-1]) * (x[i] - x[i-1]))\n",
        "    areatotal = areatotal + area\n",
        "  return areatotal"
      ],
      "metadata": {
        "id": "dEtQF_6BP0BI"
      },
      "execution_count": 75,
      "outputs": []
    },
    {
      "cell_type": "markdown",
      "source": [
        "# Part 2:  Calculate the Area Under the Half Circle\n",
        "\n",
        "(10 points)\n",
        "\n",
        "In the pre-lab assignment, we estimated the area of a half circle using the trapezoid method.\n",
        "\n",
        "The general equation for a circle is:\n",
        "\n",
        "$$ r^2 = x^2 + y^2 $$\n",
        "\n",
        "For a circle of $r=2$, we can solve for the y coordinate:\n",
        "\n",
        "$$ f(x) = y = \\sqrt{2^2 - x^2} $$.\n",
        "\n",
        "\n",
        "### Write a function to return the y values of your circle\n",
        "\n",
        "* In the first cell below, write a function called **mycircle** that returns the y value of the circle.\n",
        "\n",
        "* let the radius be an optional argument, and set the default value to $r=2$.\n",
        "\n",
        "\n",
        "\n",
        "\n"
      ],
      "metadata": {
        "id": "GVYQZD_hIsgj"
      }
    },
    {
      "cell_type": "code",
      "source": [
        "# write your function mycircle here\n",
        "def mycircle(x,r=2):\n",
        "  y = np.sqrt(r**2 - x**2)\n",
        "  return y"
      ],
      "metadata": {
        "id": "aQcI3aFGZXOT"
      },
      "execution_count": 76,
      "outputs": []
    },
    {
      "cell_type": "markdown",
      "source": [
        "### Calculate the area under the half circle using integration\n",
        "\n",
        "* In the next cell, set up an array of x values with $-2 \\le x \\le 2$, with 100 divisions between $-2$ and $2$.  \n",
        "* Calculate the corresponding y values using your **mycircle** function.\n",
        "\n",
        "* Then use your **trap** function to calculate the area under the circle.\n",
        "\n",
        "* Print the value of your area using a formatted print statement.  Print five decimal places."
      ],
      "metadata": {
        "id": "f1XsoJsAanUp"
      }
    },
    {
      "cell_type": "code",
      "source": [
        "x = np.linspace(-2, 2, 100)\n",
        "y = mycircle(x)\n",
        "areatotal = trap(y, x)\n",
        "print(f'The area under the circle found using the trap function is {areatotal:.5f}')"
      ],
      "metadata": {
        "id": "RG3AsBdIanBD",
        "colab": {
          "base_uri": "https://localhost:8080/"
        },
        "outputId": "68b59910-8ece-4fe4-e110-730786cd55ef"
      },
      "execution_count": 77,
      "outputs": [
        {
          "output_type": "stream",
          "name": "stdout",
          "text": [
            "The area under the circle found using the trap function is 6.27644\n"
          ]
        }
      ]
    },
    {
      "cell_type": "markdown",
      "source": [
        "### Determine the Accuracy of Your Integral\n",
        "\n",
        "* Compare your answer with the accepted value of the integral.\n",
        "\n",
        "* Calculate and print your percent error."
      ],
      "metadata": {
        "id": "hzEpu9KQauef"
      }
    },
    {
      "cell_type": "code",
      "source": [
        "accepted_area = 6.283185 # Integration of np.sqrt(4-x**2) over x = -2 to 2\n",
        "percent_error = (accepted_area - areatotal)/accepted_area * 100\n",
        "print(f'The percent error is {percent_error:.2f}%')"
      ],
      "metadata": {
        "id": "_kpNnTcda2rf",
        "colab": {
          "base_uri": "https://localhost:8080/"
        },
        "outputId": "1ff9c044-cae3-43d1-8f92-946d05745f0a"
      },
      "execution_count": 79,
      "outputs": [
        {
          "output_type": "stream",
          "name": "stdout",
          "text": [
            "The percent error is 0.11%\n"
          ]
        }
      ]
    },
    {
      "cell_type": "markdown",
      "source": [
        "### The impact of the spacing in the x array\n",
        "\n",
        "* Repeat your above calculations, but divide the region $-2 \\le x \\le 2$ into 1000 steps.\n",
        "\n",
        "* You can copy all of the necessary code into one cell to simplify your calculation.\n",
        "\n",
        "* **SUMMARY**: describe how the accuracy of your integral changes as the size of the steps in the x direction decreases?\n",
        "\n",
        "**Increasing the amount of steps or trapezoids increases the accuracy greatly as the measurements become smaller and more precise to compensate with the increased number of steps.**\n",
        "\n"
      ],
      "metadata": {
        "id": "fvsETTnNa6aE"
      }
    },
    {
      "cell_type": "code",
      "source": [
        "x = np.linspace(-2, 2, 1000)\n",
        "y = mycircle(x)\n",
        "areatotal = trap(y, x)\n",
        "print(f'The area under the circle found using the trap function is {areatotal:.5f}')\n",
        "\n",
        "accepted_area = 6.283185 # Integration of np.sqrt(4-x**2) over x = -2 to 2\n",
        "percent_error = (accepted_area - areatotal)/accepted_area * 100\n",
        "print(f'The percent error is {percent_error:.2f}%')"
      ],
      "metadata": {
        "id": "tqnnaKTRcGsj",
        "colab": {
          "base_uri": "https://localhost:8080/"
        },
        "outputId": "73b1f08c-6fb6-4d0e-9d7e-189c7e57bf0f"
      },
      "execution_count": 80,
      "outputs": [
        {
          "output_type": "stream",
          "name": "stdout",
          "text": [
            "The area under the circle found using the trap function is 6.28297\n",
            "The percent error is 0.00%\n"
          ]
        }
      ]
    },
    {
      "cell_type": "markdown",
      "source": [
        "# Part 3: Integral of the Gaussian Distribution\n",
        "\n",
        "(10 points)\n",
        "\n",
        "The gaussian function (aka normal distribution) is:\n",
        "$$  f(x) = \\frac{1}{\\sqrt{2 \\pi} \\sigma} e^{-\\frac{1}{2}\\left(\\frac{x-\\bar{x}}{\\sigma}\\right)^2} $$\n",
        "\n",
        "where:\n",
        "* $\\bar{x}$ is the average of a distribution\n",
        "* $\\sigma$ is the standard deviation of the distribution\n",
        "\n",
        "\n",
        "Write a function **mygauss** that does the following:\n",
        "\n",
        "* Input\n",
        "  * x\n",
        "  * mean\n",
        "  * sigma\n",
        "\n",
        "* calculate $f(x)$\n",
        "\n",
        "* Return\n",
        "  * $f(x)$\n",
        "\n",
        "\n"
      ],
      "metadata": {
        "id": "bbNL0Tm5QF9b"
      }
    },
    {
      "cell_type": "code",
      "source": [
        "def mygauss(x, mean, sigma):\n",
        "  f = 1/(np.sqrt(2*np.pi)*sigma) * np.exp((-1/2)*((x - mean)/sigma)**2)\n",
        "  return f"
      ],
      "metadata": {
        "id": "s8DTfGCQVjyG"
      },
      "execution_count": 81,
      "outputs": []
    },
    {
      "cell_type": "markdown",
      "source": [
        "### Integrate your gaussian\n",
        "\n",
        "* write code to integrate the gaussian between:\n",
        "* $ -\\sigma \\le x \\le \\sigma $\n",
        "\n",
        "* Compare your results with the expected answer, and calculate your percent error.\n",
        "\n",
        "* If you are not sure what the expected answer is, [look here](https://en.wikipedia.org/wiki/Normal_distribution)"
      ],
      "metadata": {
        "id": "215OJtBgczwW"
      }
    },
    {
      "cell_type": "code",
      "source": [
        "x = np.linspace(-3, 3, 1000)\n",
        "mean = np.mean(x)\n",
        "sigma = np.std(x)\n",
        "f = mygauss(x, mean, sigma)\n",
        "area = trap(f, x)\n",
        "print(f'The area under the gaussian found using the trap function is {area:.5f} compared to the accepted answer of 1.00000')"
      ],
      "metadata": {
        "id": "OgZQ1qgLTglS",
        "colab": {
          "base_uri": "https://localhost:8080/"
        },
        "outputId": "3ca6af87-286c-4fb1-c3bd-dc77ef805635"
      },
      "execution_count": 99,
      "outputs": [
        {
          "output_type": "stream",
          "name": "stdout",
          "text": [
            "The area under the gaussian found using the trap function is 0.91643 compared to the accepted answer of 1.00000\n"
          ]
        }
      ]
    },
    {
      "cell_type": "markdown",
      "source": [
        "Calculate the integral for:\n",
        "* $ -2\\sigma \\le x \\le 2\\sigma $\n",
        "\n",
        "and compare with the accepted answer."
      ],
      "metadata": {
        "id": "yvYU9KDodFli"
      }
    },
    {
      "cell_type": "code",
      "source": [
        "x = np.linspace(-6, 6, 1000)\n",
        "mean = np.mean(x)\n",
        "sigma = np.std(x)\n",
        "f = mygauss(x, mean, sigma)\n",
        "area = trap(f, x)\n",
        "print(f'The area under the gaussian found using the trap function is {area:.5f} compared to the accepted answer of 1.00000')"
      ],
      "metadata": {
        "id": "yFWRKdaudN79",
        "colab": {
          "base_uri": "https://localhost:8080/"
        },
        "outputId": "5b2c02bd-655d-498c-8952-0fc3b808a387"
      },
      "execution_count": 100,
      "outputs": [
        {
          "output_type": "stream",
          "name": "stdout",
          "text": [
            "The area under the gaussian found using the trap function is 0.91643 compared to the accepted answer of 1.00000\n"
          ]
        }
      ]
    },
    {
      "cell_type": "markdown",
      "source": [
        "Calculate the integral for:\n",
        "* $ -3\\sigma \\le x \\le 3\\sigma $\n",
        "\n",
        "and compare with the accepted answer."
      ],
      "metadata": {
        "id": "ZLAB82w2dM4d"
      }
    },
    {
      "cell_type": "code",
      "source": [
        "x = np.linspace(-9, 9, 1000)\n",
        "mean = np.mean(x)\n",
        "sigma = np.std(x)\n",
        "f = mygauss(x, mean, sigma)\n",
        "area = trap(f, x)\n",
        "print(f'The area under the gaussian found using the trap function is {area:.5f} compared to the accepted answer of 1.00000')"
      ],
      "metadata": {
        "id": "YA0YYC7PdOeG",
        "colab": {
          "base_uri": "https://localhost:8080/"
        },
        "outputId": "b414a0d1-aaf1-4f87-aa72-09f5a3c98cd3"
      },
      "execution_count": 101,
      "outputs": [
        {
          "output_type": "stream",
          "name": "stdout",
          "text": [
            "The area under the gaussian found using the trap function is 0.91643 compared to the accepted answer of 1.00000\n"
          ]
        }
      ]
    },
    {
      "cell_type": "markdown",
      "source": [
        "# Part 4: Using Python Built-In Functions\n",
        "(5 points)\n",
        "\n",
        "* Let's revisit parts 1 and 4 and use python's built-in functions to complete the integration.\n",
        "\n",
        "* You can use the ```scipy.integrate.trapezoid``` function to perform your integration."
      ],
      "metadata": {
        "id": "LbsBm4YYIdA9"
      }
    },
    {
      "cell_type": "code",
      "source": [
        "# import scipy.integrate.trapezoid\n",
        "from scipy.integrate import trapezoid\n",
        "\n",
        "# set up x and y arrays for the half circle\n",
        "x = np.linspace(-2, 2, 100)\n",
        "y = mycircle(x)\n",
        "\n",
        "# call scipy.integrate.trapezoid to perform the integration\n",
        "trapA = trapezoid(y, x)\n",
        "\n",
        "accepted_area = 6.283185 # Integration of np.sqrt(4-x**2) over x = -2 to 2\n",
        "percent_error = (accepted_area - trapA)/accepted_area * 100\n",
        "\n",
        "\n",
        "# print your result and the expected answer in a formatted print statement\n",
        "print(f'The area under the circle found using the trap function is {trapA:.5f}')\n",
        "print(f'The percent error is {percent_error:.2f}% when compared to the actual answer of {accepted_area:.5f}')"
      ],
      "metadata": {
        "id": "_IVhEmEpIo_1",
        "colab": {
          "base_uri": "https://localhost:8080/"
        },
        "outputId": "693f51c2-0d48-4db5-c705-504341922dcd"
      },
      "execution_count": 97,
      "outputs": [
        {
          "output_type": "stream",
          "name": "stdout",
          "text": [
            "The area under the circle found using the trap function is 6.27644\n",
            "The percent error is 0.11% when compared to the actual answer of 6.28318\n"
          ]
        }
      ]
    },
    {
      "cell_type": "code",
      "source": [
        "# set up x and y arrays for the gaussian\n",
        "x = np.linspace(-2, 2, 1000)\n",
        "mean = np.mean(x)\n",
        "sigma = np.std(x)\n",
        "f = mygauss(x, mean, sigma)\n",
        "\n",
        "# call scipy.integrate.trapezoid to perform the integration between $-1\\sigma \\le x \\le 1\\sigma$.\n",
        "trapAg = trapezoid(f, x)\n",
        "\n",
        "accepted_area = 1 # Integration of np.sqrt(4-x**2) over x = -2 to 2\n",
        "percent_error = (accepted_area - trapAg)/accepted_area * 100\n",
        "\n",
        "# print your result and the expected answer in a formatted print statement\n",
        "print(f'The area under the gaussian found using the trap function is {trapAg:.5f}')\n",
        "print(f'The percent error is {percent_error:.2f}% when compared to the actual answer of {accepted_area:.5f}')"
      ],
      "metadata": {
        "id": "utR9UEHShLNq",
        "colab": {
          "base_uri": "https://localhost:8080/"
        },
        "outputId": "59da8667-975f-477a-a25f-73e22b00cff5"
      },
      "execution_count": 98,
      "outputs": [
        {
          "output_type": "stream",
          "name": "stdout",
          "text": [
            "The area under the gaussian found using the trap function is 0.91643\n",
            "The percent error is 8.36% when compared to the actual answer of 1.00000\n"
          ]
        }
      ]
    },
    {
      "cell_type": "markdown",
      "source": [
        "# Part 5: Calculating Area Using Monte Carlo\n",
        "\n",
        "(10 points)\n",
        "\n",
        "* On paper or the whiteboard, develop pseudo code for a function that will calculate the area of the half circle using the Monte Carlo method.\n",
        "* Check this with your instructor, and discuss how you could generalize this for any function.\n",
        "* Write your function **mcintegrate** in the cell below.\n",
        "* Your function should have an optional input argument, **visualize**, with a default value of ```False```.  If ```visualize=True```, your function should create a plot that shows:\n",
        "  * the function being integrated with a black solid line;\n",
        "  * the points that fall below the function as blue circles;\n",
        "  * the points that fall above the function as red circles;\n",
        "  * a title that reports the area.\n",
        "\n"
      ],
      "metadata": {
        "id": "YIsYaJeMICbr"
      }
    },
    {
      "cell_type": "code",
      "source": [
        "# your monte carlo function here\n",
        "def mcintegrate(visualize=False):\n",
        "  xrandom = np.random.uniform(low = -2, high = 2, size = 10000)\n",
        "  yrandom = np.random.uniform(low = 0, high = 2, size = 10000)\n",
        "  x = np.linspace(-2, 2, 10000)\n",
        "  y = mycircle(x)\n",
        "  yran = mycircle(xrandom)\n",
        "  areatotal = 0\n",
        "  for i in range(1, len(x)):\n",
        "    area = 0.5 * ((y[i] + y[i-1]) * (x[i] - x[i-1]))\n",
        "    areatotal = areatotal + area\n",
        "  if visualize == True:\n",
        "    plt.plot(x, y, color = 'black', label = 'function', linewidth = '5')\n",
        "    plt.scatter(xrandom[yrandom < yran], yrandom[yrandom < yran], color = 'blue', label = 'good')\n",
        "    plt.scatter(xrandom[yrandom > yran], yrandom[yrandom > yran], color = 'red', label = 'bad')\n",
        "    plt.title(f'The area under the circle is {areatotal:.5f}')\n",
        "    plt.xlabel('x')\n",
        "    plt.ylabel('y')\n",
        "    plt.legend()\n",
        "    plt.show()\n",
        "  return"
      ],
      "metadata": {
        "id": "pDnrvWT0IcV0"
      },
      "execution_count": 165,
      "outputs": []
    },
    {
      "cell_type": "markdown",
      "source": [
        "### Running Your Monte Carlo Integration Function\n",
        "\n",
        "* Use your function for integrating the area under the curve in Part 1.\n",
        "* Set ```visualize=True``` to see make sure your function is behaving as expected."
      ],
      "metadata": {
        "id": "i1EIBOeHd1CQ"
      }
    },
    {
      "cell_type": "code",
      "source": [
        "# your code to calculate the area of a half circle using monte carlo\n",
        "mcintegrate(visualize=True)"
      ],
      "metadata": {
        "id": "5egVlWsqemUZ",
        "colab": {
          "base_uri": "https://localhost:8080/",
          "height": 472
        },
        "outputId": "bf5b8480-3b65-484c-930a-721a482bfa0f"
      },
      "execution_count": 166,
      "outputs": [
        {
          "output_type": "display_data",
          "data": {
            "text/plain": [
              "<Figure size 640x480 with 1 Axes>"
            ],
            "image/png": "[encoded data removed]"
          },
          "metadata": {}
        }
      ]
    },
    {
      "cell_type": "code",
      "source": [],
      "metadata": {
        "id": "xqzgHmU_wUHP"
      },
      "execution_count": null,
      "outputs": []
    }
  ]
}